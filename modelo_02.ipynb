{
 "cells": [
  {
   "cell_type": "markdown",
   "metadata": {},
   "source": [
    "<h1>Desafio Quantamental Itaú - 2023</h1>\n",
    "<h3>Lamia - Modelo 02</h3>\n",
    "<h4>Pairs trading c/ Bitcoin e Ethereum</h4>"
   ]
  },
  {
   "cell_type": "markdown",
   "metadata": {},
   "source": [
    "Este modelo tem o objetivo de realizar uma estratégia de pairs trading com bitcoin e Ethereum.<br>\n",
    "O pairs trading é uma estratégia de negociação que envolve a identificação de dois ativos que historicamente se movem juntos, formando um par. Nesse caso, vamos criar um modelo simples de machine learning para pares de negociação usando dados históricos do preço do Bitcoin e de outro ativo, por exemplo, o Ethereum."
   ]
  },
  {
   "cell_type": "code",
   "execution_count": 1,
   "metadata": {},
   "outputs": [
    {
     "name": "stdout",
     "output_type": "stream",
     "text": [
      "Defaulting to user installation because normal site-packages is not writeable\n",
      "Collecting yfinance\n",
      "  Downloading yfinance-0.2.26-py2.py3-none-any.whl (62 kB)\n",
      "Requirement already satisfied: requests>=2.31 in c:\\users\\gustavo.j.siebel\\appdata\\roaming\\python\\python39\\site-packages (from yfinance) (2.31.0)\n",
      "Collecting multitasking>=0.0.7\n",
      "  Downloading multitasking-0.0.11-py3-none-any.whl (8.5 kB)\n",
      "Collecting lxml>=4.9.1\n",
      "  Downloading lxml-4.9.3-cp39-cp39-win_amd64.whl (3.9 MB)\n",
      "Requirement already satisfied: appdirs>=1.4.4 in c:\\users\\gustavo.j.siebel\\appdata\\roaming\\python\\python39\\site-packages (from yfinance) (1.4.4)\n",
      "Requirement already satisfied: pytz>=2022.5 in c:\\users\\gustavo.j.siebel\\appdata\\roaming\\python\\python39\\site-packages (from yfinance) (2023.3)\n",
      "Requirement already satisfied: pandas>=1.3.0 in c:\\users\\gustavo.j.siebel\\appdata\\roaming\\python\\python39\\site-packages (from yfinance) (2.0.2)\n",
      "Requirement already satisfied: numpy>=1.16.5 in c:\\users\\gustavo.j.siebel\\appdata\\roaming\\python\\python39\\site-packages (from yfinance) (1.24.0)\n",
      "Collecting html5lib>=1.1\n",
      "  Downloading html5lib-1.1-py2.py3-none-any.whl (112 kB)\n",
      "Collecting frozendict>=2.3.4\n",
      "  Downloading frozendict-2.3.8-cp39-cp39-win_amd64.whl (35 kB)\n",
      "Collecting beautifulsoup4>=4.11.1\n",
      "  Downloading beautifulsoup4-4.12.2-py3-none-any.whl (142 kB)\n",
      "Requirement already satisfied: charset-normalizer<4,>=2 in c:\\users\\gustavo.j.siebel\\appdata\\roaming\\python\\python39\\site-packages (from requests>=2.31->yfinance) (3.1.0)\n",
      "Requirement already satisfied: urllib3<3,>=1.21.1 in c:\\users\\gustavo.j.siebel\\appdata\\roaming\\python\\python39\\site-packages (from requests>=2.31->yfinance) (2.0.3)\n",
      "Requirement already satisfied: idna<4,>=2.5 in c:\\users\\gustavo.j.siebel\\appdata\\roaming\\python\\python39\\site-packages (from requests>=2.31->yfinance) (3.4)\n",
      "Requirement already satisfied: certifi>=2017.4.17 in c:\\users\\gustavo.j.siebel\\appdata\\roaming\\python\\python39\\site-packages (from requests>=2.31->yfinance) (2023.5.7)\n",
      "Requirement already satisfied: python-dateutil>=2.8.2 in c:\\users\\gustavo.j.siebel\\appdata\\roaming\\python\\python39\\site-packages (from pandas>=1.3.0->yfinance) (2.8.2)\n",
      "Requirement already satisfied: tzdata>=2022.1 in c:\\users\\gustavo.j.siebel\\appdata\\roaming\\python\\python39\\site-packages (from pandas>=1.3.0->yfinance) (2023.3)\n",
      "Requirement already satisfied: six>=1.9 in c:\\users\\gustavo.j.siebel\\appdata\\roaming\\python\\python39\\site-packages (from html5lib>=1.1->yfinance) (1.16.0)\n",
      "Collecting webencodings\n",
      "  Downloading webencodings-0.5.1-py2.py3-none-any.whl (11 kB)\n",
      "Collecting soupsieve>1.2\n",
      "  Downloading soupsieve-2.4.1-py3-none-any.whl (36 kB)\n",
      "Installing collected packages: multitasking, lxml, webencodings, html5lib, frozendict, soupsieve, beautifulsoup4, yfinance\n",
      "Successfully installed beautifulsoup4-4.12.2 frozendict-2.3.8 html5lib-1.1 lxml-4.9.3 multitasking-0.0.11 soupsieve-2.4.1 webencodings-0.5.1 yfinance-0.2.26\n",
      "Note: you may need to restart the kernel to use updated packages.\n"
     ]
    },
    {
     "name": "stderr",
     "output_type": "stream",
     "text": [
      "WARNING: You are using pip version 20.2.3; however, version 23.2.1 is available.\n",
      "You should consider upgrading via the 'c:\\Program Files\\Python39\\python.exe -m pip install --upgrade pip' command.\n"
     ]
    }
   ],
   "source": [
    "pip install yfinance"
   ]
  },
  {
   "cell_type": "code",
   "execution_count": 25,
   "metadata": {},
   "outputs": [],
   "source": [
    "import yfinance as yf\n",
    "import pandas as pd\n",
    "import numpy as np\n",
    "from sklearn.model_selection import train_test_split\n",
    "from sklearn.linear_model import LinearRegression\n",
    "import matplotlib.pyplot as plt\n"
   ]
  },
  {
   "cell_type": "code",
   "execution_count": 17,
   "metadata": {},
   "outputs": [],
   "source": [
    "# Função para carregar os dados\n",
    "def load_data():\n",
    "    btc_data = yf.download(tickers='BTC-USD', start='2020-01-01', end='2023-01-01')\n",
    "    eth_data = yf.download(tickers='ETH-USD', start='2020-01-01', end='2023-01-01')\n",
    "\n",
    "    # Selecionar apenas a coluna de preço de fechamento para cada ativo\n",
    "    btc_price = btc_data['Close']\n",
    "    eth_price = eth_data['Close']\n",
    "\n",
    "    return btc_price, eth_price"
   ]
  },
  {
   "cell_type": "code",
   "execution_count": 4,
   "metadata": {},
   "outputs": [],
   "source": [
    "# Função para criar os pares de negociação\n",
    "def create_pairs(btc_price, eth_price, window_size):\n",
    "    pairs = []\n",
    "    for i in range(len(btc_price) - window_size):\n",
    "        btc_window = btc_price[i:i+window_size]\n",
    "        eth_window = eth_price[i:i+window_size]\n",
    "        pairs.append((btc_window, eth_window))\n",
    "    return pairs"
   ]
  },
  {
   "cell_type": "code",
   "execution_count": 5,
   "metadata": {},
   "outputs": [],
   "source": [
    "# Função para treinar o modelo\n",
    "def train_model(pairs):\n",
    "    X = []\n",
    "    y = []\n",
    "    for btc_window, eth_window in pairs:\n",
    "        # Calcular o spread entre os preços de fechamento de Bitcoin e Ethereum\n",
    "        spread = btc_window - eth_window\n",
    "        \n",
    "        # Definir o target como o preço de fechamento de Bitcoin no próximo período\n",
    "        target = btc_window.iloc[-1]\n",
    "        \n",
    "        X.append(spread.values.reshape(-1, 1))\n",
    "        y.append(target)"
   ]
  },
  {
   "cell_type": "code",
   "execution_count": 6,
   "metadata": {},
   "outputs": [],
   "source": [
    "# Função para treinar o modelo\n",
    "def train_model(pairs):\n",
    "    X = []\n",
    "    y = []\n",
    "    for btc_window, eth_window in pairs:\n",
    "        # Calcular o spread entre os preços de fechamento de Bitcoin e Ethereum\n",
    "        spread = btc_window - eth_window\n",
    "        \n",
    "        # Definir o target como o preço de fechamento de Bitcoin no próximo período\n",
    "        target = btc_window.iloc[-1]\n",
    "        \n",
    "        X.append(spread.values.reshape(-1, 1))\n",
    "        y.append(target)\n",
    "    \n",
    "    X_train, X_test, y_train, y_test = train_test_split(X, y, test_size=0.2, random_state=42)\n",
    "    \n",
    "    model = LinearRegression()\n",
    "    model.fit(X_train, y_train)\n",
    "    \n",
    "    return model, X_test, y_test"
   ]
  },
  {
   "cell_type": "code",
   "execution_count": 7,
   "metadata": {},
   "outputs": [],
   "source": [
    "# Função para avaliar o modelo\n",
    "def evaluate_model(model, X_test, y_test):\n",
    "    y_pred = model.predict(X_test)\n",
    "    mse = np.mean((y_pred - y_test)**2)\n",
    "    print(f'Mean Squared Error: {mse}')"
   ]
  },
  {
   "cell_type": "code",
   "execution_count": 8,
   "metadata": {},
   "outputs": [],
   "source": [
    "# Função para visualizar o spread e os sinais de negociação\n",
    "def visualize_results(btc_price, eth_price, spread, buy_signal, sell_signal):\n",
    "    plt.figure(figsize=(12, 6))\n",
    "    \n",
    "    plt.plot(btc_price.index, btc_price.values, label='Bitcoin Price', color='blue')\n",
    "    plt.plot(eth_price.index, eth_price.values, label='Ethereum Price', color='green')\n",
    "    \n",
    "    plt.twinx()\n",
    "    plt.plot(btc_price.index, spread, label='Spread', color='red')\n",
    "    \n",
    "    plt.plot(btc_price.index, [None]*len(btc_price), label='Buy Signal', marker='^', markersize=10, color='g', linestyle='None')\n",
    "    plt.plot(btc_price.index, [None]*len(btc_price), label='Sell Signal', marker='v', markersize=10, color='r', linestyle='None')\n",
    "    \n",
    "    for i in range(len(buy_signal)):\n",
    "        plt.plot(buy_signal[i], btc_price[buy_signal[i]], 'g^')\n",
    "    for i in range(len(sell_signal)):\n",
    "        plt.plot(sell_signal[i], btc_price[sell_signal[i]], 'rv')\n",
    "    \n",
    "    plt.title('Pairs Trading - Bitcoin and Ethereum')\n",
    "    plt.xlabel('Date')\n",
    "    plt.ylabel('Price')\n",
    "    plt.legend(loc='upper left')\n",
    "    plt.show()"
   ]
  },
  {
   "cell_type": "code",
   "execution_count": 12,
   "metadata": {},
   "outputs": [
    {
     "name": "stderr",
     "output_type": "stream",
     "text": [
      "Failed to get ticker 'BTC-USD' reason: HTTPSConnectionPool(host='query2.finance.yahoo.com', port=443): Max retries exceeded with url: /v8/finance/chart/BTC-USD?range=1d&interval=1d (Caused by SSLError(SSLCertVerificationError(1, '[SSL: CERTIFICATE_VERIFY_FAILED] certificate verify failed: self signed certificate in certificate chain (_ssl.c:1122)')))\n"
     ]
    },
    {
     "name": "stdout",
     "output_type": "stream",
     "text": [
      "[*********************100%***********************]  1 of 1 completed"
     ]
    },
    {
     "name": "stderr",
     "output_type": "stream",
     "text": [
      "\n",
      "1 Failed download:\n",
      "['BTC-USD']: Exception('%ticker%: No timezone found, symbol may be delisted')\n",
      "Failed to get ticker 'ETH-USD' reason: HTTPSConnectionPool(host='query2.finance.yahoo.com', port=443): Max retries exceeded with url: /v8/finance/chart/ETH-USD?range=1d&interval=1d (Caused by SSLError(SSLCertVerificationError(1, '[SSL: CERTIFICATE_VERIFY_FAILED] certificate verify failed: self signed certificate in certificate chain (_ssl.c:1122)')))\n"
     ]
    },
    {
     "name": "stdout",
     "output_type": "stream",
     "text": [
      "\n",
      "[*********************100%***********************]  1 of 1 completed"
     ]
    },
    {
     "name": "stderr",
     "output_type": "stream",
     "text": [
      "\n",
      "1 Failed download:\n",
      "['ETH-USD']: Exception('%ticker%: No timezone found, symbol may be delisted')\n"
     ]
    },
    {
     "name": "stdout",
     "output_type": "stream",
     "text": [
      "\n"
     ]
    },
    {
     "ename": "ValueError",
     "evalue": "With n_samples=0, test_size=0.2 and train_size=None, the resulting train set will be empty. Adjust any of the aforementioned parameters.",
     "output_type": "error",
     "traceback": [
      "\u001b[1;31m---------------------------------------------------------------------------\u001b[0m",
      "\u001b[1;31mValueError\u001b[0m                                Traceback (most recent call last)",
      "Cell \u001b[1;32mIn[12], line 26\u001b[0m\n\u001b[0;32m     23\u001b[0m     visualize_results(btc_price, eth_price, spread, buy_signal, sell_signal)\n\u001b[0;32m     25\u001b[0m \u001b[39mif\u001b[39;00m \u001b[39m__name__\u001b[39m \u001b[39m==\u001b[39m \u001b[39m'\u001b[39m\u001b[39m__main__\u001b[39m\u001b[39m'\u001b[39m:\n\u001b[1;32m---> 26\u001b[0m     main()\n",
      "Cell \u001b[1;32mIn[12], line 6\u001b[0m, in \u001b[0;36mmain\u001b[1;34m()\u001b[0m\n\u001b[0;32m      3\u001b[0m window_size \u001b[39m=\u001b[39m \u001b[39m20\u001b[39m\n\u001b[0;32m      4\u001b[0m pairs \u001b[39m=\u001b[39m create_pairs(btc_price, eth_price, window_size)\n\u001b[1;32m----> 6\u001b[0m model, X_test, y_test \u001b[39m=\u001b[39m train_model(pairs)\n\u001b[0;32m      7\u001b[0m evaluate_model(model, X_test, y_test)\n\u001b[0;32m      9\u001b[0m spread \u001b[39m=\u001b[39m btc_price \u001b[39m-\u001b[39m eth_price\n",
      "Cell \u001b[1;32mIn[6], line 15\u001b[0m, in \u001b[0;36mtrain_model\u001b[1;34m(pairs)\u001b[0m\n\u001b[0;32m     12\u001b[0m     X\u001b[39m.\u001b[39mappend(spread\u001b[39m.\u001b[39mvalues\u001b[39m.\u001b[39mreshape(\u001b[39m-\u001b[39m\u001b[39m1\u001b[39m, \u001b[39m1\u001b[39m))\n\u001b[0;32m     13\u001b[0m     y\u001b[39m.\u001b[39mappend(target)\n\u001b[1;32m---> 15\u001b[0m X_train, X_test, y_train, y_test \u001b[39m=\u001b[39m train_test_split(X, y, test_size\u001b[39m=\u001b[39;49m\u001b[39m0.2\u001b[39;49m, random_state\u001b[39m=\u001b[39;49m\u001b[39m42\u001b[39;49m)\n\u001b[0;32m     17\u001b[0m model \u001b[39m=\u001b[39m LinearRegression()\n\u001b[0;32m     18\u001b[0m model\u001b[39m.\u001b[39mfit(X_train, y_train)\n",
      "File \u001b[1;32m~\\AppData\\Roaming\\Python\\Python39\\site-packages\\sklearn\\utils\\_param_validation.py:211\u001b[0m, in \u001b[0;36mvalidate_params.<locals>.decorator.<locals>.wrapper\u001b[1;34m(*args, **kwargs)\u001b[0m\n\u001b[0;32m    205\u001b[0m \u001b[39mtry\u001b[39;00m:\n\u001b[0;32m    206\u001b[0m     \u001b[39mwith\u001b[39;00m config_context(\n\u001b[0;32m    207\u001b[0m         skip_parameter_validation\u001b[39m=\u001b[39m(\n\u001b[0;32m    208\u001b[0m             prefer_skip_nested_validation \u001b[39mor\u001b[39;00m global_skip_validation\n\u001b[0;32m    209\u001b[0m         )\n\u001b[0;32m    210\u001b[0m     ):\n\u001b[1;32m--> 211\u001b[0m         \u001b[39mreturn\u001b[39;00m func(\u001b[39m*\u001b[39margs, \u001b[39m*\u001b[39m\u001b[39m*\u001b[39mkwargs)\n\u001b[0;32m    212\u001b[0m \u001b[39mexcept\u001b[39;00m InvalidParameterError \u001b[39mas\u001b[39;00m e:\n\u001b[0;32m    213\u001b[0m     \u001b[39m# When the function is just a wrapper around an estimator, we allow\u001b[39;00m\n\u001b[0;32m    214\u001b[0m     \u001b[39m# the function to delegate validation to the estimator, but we replace\u001b[39;00m\n\u001b[0;32m    215\u001b[0m     \u001b[39m# the name of the estimator by the name of the function in the error\u001b[39;00m\n\u001b[0;32m    216\u001b[0m     \u001b[39m# message to avoid confusion.\u001b[39;00m\n\u001b[0;32m    217\u001b[0m     msg \u001b[39m=\u001b[39m re\u001b[39m.\u001b[39msub(\n\u001b[0;32m    218\u001b[0m         \u001b[39mr\u001b[39m\u001b[39m\"\u001b[39m\u001b[39mparameter of \u001b[39m\u001b[39m\\\u001b[39m\u001b[39mw+ must be\u001b[39m\u001b[39m\"\u001b[39m,\n\u001b[0;32m    219\u001b[0m         \u001b[39mf\u001b[39m\u001b[39m\"\u001b[39m\u001b[39mparameter of \u001b[39m\u001b[39m{\u001b[39;00mfunc\u001b[39m.\u001b[39m\u001b[39m__qualname__\u001b[39m\u001b[39m}\u001b[39;00m\u001b[39m must be\u001b[39m\u001b[39m\"\u001b[39m,\n\u001b[0;32m    220\u001b[0m         \u001b[39mstr\u001b[39m(e),\n\u001b[0;32m    221\u001b[0m     )\n",
      "File \u001b[1;32m~\\AppData\\Roaming\\Python\\Python39\\site-packages\\sklearn\\model_selection\\_split.py:2617\u001b[0m, in \u001b[0;36mtrain_test_split\u001b[1;34m(test_size, train_size, random_state, shuffle, stratify, *arrays)\u001b[0m\n\u001b[0;32m   2614\u001b[0m arrays \u001b[39m=\u001b[39m indexable(\u001b[39m*\u001b[39marrays)\n\u001b[0;32m   2616\u001b[0m n_samples \u001b[39m=\u001b[39m _num_samples(arrays[\u001b[39m0\u001b[39m])\n\u001b[1;32m-> 2617\u001b[0m n_train, n_test \u001b[39m=\u001b[39m _validate_shuffle_split(\n\u001b[0;32m   2618\u001b[0m     n_samples, test_size, train_size, default_test_size\u001b[39m=\u001b[39;49m\u001b[39m0.25\u001b[39;49m\n\u001b[0;32m   2619\u001b[0m )\n\u001b[0;32m   2621\u001b[0m \u001b[39mif\u001b[39;00m shuffle \u001b[39mis\u001b[39;00m \u001b[39mFalse\u001b[39;00m:\n\u001b[0;32m   2622\u001b[0m     \u001b[39mif\u001b[39;00m stratify \u001b[39mis\u001b[39;00m \u001b[39mnot\u001b[39;00m \u001b[39mNone\u001b[39;00m:\n",
      "File \u001b[1;32m~\\AppData\\Roaming\\Python\\Python39\\site-packages\\sklearn\\model_selection\\_split.py:2273\u001b[0m, in \u001b[0;36m_validate_shuffle_split\u001b[1;34m(n_samples, test_size, train_size, default_test_size)\u001b[0m\n\u001b[0;32m   2270\u001b[0m n_train, n_test \u001b[39m=\u001b[39m \u001b[39mint\u001b[39m(n_train), \u001b[39mint\u001b[39m(n_test)\n\u001b[0;32m   2272\u001b[0m \u001b[39mif\u001b[39;00m n_train \u001b[39m==\u001b[39m \u001b[39m0\u001b[39m:\n\u001b[1;32m-> 2273\u001b[0m     \u001b[39mraise\u001b[39;00m \u001b[39mValueError\u001b[39;00m(\n\u001b[0;32m   2274\u001b[0m         \u001b[39m\"\u001b[39m\u001b[39mWith n_samples=\u001b[39m\u001b[39m{}\u001b[39;00m\u001b[39m, test_size=\u001b[39m\u001b[39m{}\u001b[39;00m\u001b[39m and train_size=\u001b[39m\u001b[39m{}\u001b[39;00m\u001b[39m, the \u001b[39m\u001b[39m\"\u001b[39m\n\u001b[0;32m   2275\u001b[0m         \u001b[39m\"\u001b[39m\u001b[39mresulting train set will be empty. Adjust any of the \u001b[39m\u001b[39m\"\u001b[39m\n\u001b[0;32m   2276\u001b[0m         \u001b[39m\"\u001b[39m\u001b[39maforementioned parameters.\u001b[39m\u001b[39m\"\u001b[39m\u001b[39m.\u001b[39mformat(n_samples, test_size, train_size)\n\u001b[0;32m   2277\u001b[0m     )\n\u001b[0;32m   2279\u001b[0m \u001b[39mreturn\u001b[39;00m n_train, n_test\n",
      "\u001b[1;31mValueError\u001b[0m: With n_samples=0, test_size=0.2 and train_size=None, the resulting train set will be empty. Adjust any of the aforementioned parameters."
     ]
    }
   ],
   "source": [
    "def main():\n",
    "    btc_price, eth_price = load_data()\n",
    "    window_size = 20\n",
    "    pairs = create_pairs(btc_price, eth_price, window_size)\n",
    "    \n",
    "    model, X_test, y_test = train_model(pairs)\n",
    "    evaluate_model(model, X_test, y_test)\n",
    "    \n",
    "    spread = btc_price - eth_price\n",
    "    signals = model.predict(spread.values.reshape(-1, 1))\n",
    "    \n",
    "    # Definir um limiar para os sinais de negociação\n",
    "    threshold = 0.5\n",
    "    \n",
    "    buy_signal = []\n",
    "    sell_signal = []\n",
    "    for i in range(len(signals) - 1):\n",
    "        if signals[i] < -threshold and signals[i + 1] >= -threshold:\n",
    "            buy_signal.append(spread.index[i + window_size])\n",
    "        elif signals[i] > threshold and signals[i + 1] <= threshold:\n",
    "            sell_signal.append(spread.index[i + window_size])\n",
    "    \n",
    "    visualize_results(btc_price, eth_price, spread, buy_signal, sell_signal)\n",
    "\n",
    "if __name__ == '__main__':\n",
    "    main()"
   ]
  },
  {
   "cell_type": "code",
   "execution_count": null,
   "metadata": {},
   "outputs": [],
   "source": []
  }
 ],
 "metadata": {
  "language_info": {
   "name": "python"
  },
  "orig_nbformat": 4
 },
 "nbformat": 4,
 "nbformat_minor": 2
}
